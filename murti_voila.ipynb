{
 "cells": [
  {
   "cell_type": "code",
   "execution_count": 1,
   "metadata": {},
   "outputs": [
    {
     "name": "stdout",
     "output_type": "stream",
     "text": [
      "Test\n"
     ]
    }
   ],
   "source": [
    "print('Test')"
   ]
  },
  {
   "cell_type": "code",
   "execution_count": 4,
   "metadata": {},
   "outputs": [
    {
     "ename": "NameError",
     "evalue": "name 'Path' is not defined",
     "output_type": "error",
     "traceback": [
      "\u001b[0;31m---------------------------------------------------------------------------\u001b[0m",
      "\u001b[0;31mNameError\u001b[0m                                 Traceback (most recent call last)",
      "Input \u001b[0;32mIn [4]\u001b[0m, in \u001b[0;36m<cell line: 16>\u001b[0;34m()\u001b[0m\n\u001b[1;32m     13\u001b[0m         gdown\u001b[38;5;241m.\u001b[39mdownload(\u001b[38;5;28mid\u001b[39m\u001b[38;5;241m=\u001b[39m\u001b[38;5;28mid\u001b[39m, output\u001b[38;5;241m=\u001b[39mmodel_fn)    \n\u001b[1;32m     15\u001b[0m \u001b[38;5;66;03m# read model file\u001b[39;00m\n\u001b[0;32m---> 16\u001b[0m path \u001b[38;5;241m=\u001b[39m \u001b[43mPath\u001b[49m()\n\u001b[1;32m     17\u001b[0m maybe_download_model(path, model_fn)\n\u001b[1;32m     18\u001b[0m learn_inf \u001b[38;5;241m=\u001b[39m load_learner(path\u001b[38;5;241m/\u001b[39m\u001b[38;5;124m'\u001b[39m\u001b[38;5;124mmurti_export.pkl\u001b[39m\u001b[38;5;124m'\u001b[39m, cpu\u001b[38;5;241m=\u001b[39m\u001b[38;5;28;01mTrue\u001b[39;00m)\n",
      "\u001b[0;31mNameError\u001b[0m: name 'Path' is not defined"
     ]
    }
   ],
   "source": [
    "import gdown\n",
    "from fastai.vision.all import *\n",
    "from fastai.vision.widgets import *\n",
    "\n",
    "model_fn = 'murti_export.pkl'\n",
    "\n",
    "def maybe_download_model(path, model_fn):\n",
    "    if not (path/model_fn).is_file():\n",
    "        id = '1KBQxNuomjXmsNk_otNnlGmm3gBBtZz9x'\n",
    "        gdown.download(id=id, output=model_fn)    \n",
    "\n",
    "# read model file\n",
    "path = Path()\n",
    "maybe_download_model(path, model_fn)\n",
    "learn_inf = load_learner(path/'murti_export.pkl', cpu=True)\n",
    "\n",
    "# set up widgets\n",
    "btn_upload = widgets.FileUpload()\n",
    "out_pl = widgets.Output()\n",
    "lbl_pred = widgets.Label()\n",
    "btn_run = widgets.Button(description='Classify')\n",
    "\n",
    "# callback for prediction\n",
    "def on_click_classify(change):\n",
    "    img = PILImage.create(btn_upload.data[-1])\n",
    "    out_pl.clear_output()\n",
    "    with out_pl: display(img.to_thumb(224,224))\n",
    "    pred,pred_idx,probs = learn_inf.predict(img)\n",
    "    lbl_pred.value = f'Prediction: {pred}; Probability: {probs[pred_idx]:.04f}'\n",
    "\n",
    "btn_run.on_click(on_click_classify)\n",
    "\n",
    "display(VBox([widgets.Label('Upload murti:'),\n",
    "      btn_upload, btn_run, out_pl, lbl_pred]))"
   ]
  },
  {
   "cell_type": "code",
   "execution_count": null,
   "metadata": {},
   "outputs": [],
   "source": []
  }
 ],
 "metadata": {
  "kernelspec": {
   "display_name": "Python 3 (ipykernel)",
   "language": "python",
   "name": "python3"
  },
  "language_info": {
   "codemirror_mode": {
    "name": "ipython",
    "version": 3
   },
   "file_extension": ".py",
   "mimetype": "text/x-python",
   "name": "python",
   "nbconvert_exporter": "python",
   "pygments_lexer": "ipython3",
   "version": "3.9.10"
  }
 },
 "nbformat": 4,
 "nbformat_minor": 4
}
